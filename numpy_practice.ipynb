{
 "cells": [
  {
   "cell_type": "code",
   "execution_count": 2,
   "id": "20beb902-c142-457c-b76e-3ed9ec7c6d5f",
   "metadata": {},
   "outputs": [],
   "source": [
    "import numpy as np"
   ]
  },
  {
   "cell_type": "markdown",
   "id": "b8184faf-56e6-4cb5-84bc-9a23cce153fe",
   "metadata": {},
   "source": [
    "**Valid Sudoku**"
   ]
  },
  {
   "cell_type": "markdown",
   "id": "3ddd7c30-52c7-453b-8f60-0f766af7b47b",
   "metadata": {},
   "source": [
    "# Creating the Sudoku by numpy module"
   ]
  },
  {
   "cell_type": "code",
   "execution_count": 3,
   "id": "01aca062-5ef2-423a-94d1-24cb73fc0551",
   "metadata": {},
   "outputs": [],
   "source": [
    "s = np.array([\n",
    "    [5, 3, 4, 6, 7, 8, 9, 1, 2],\n",
    "    [6, 7, 2, 1, 9, 5, 3, 4, 8],\n",
    "    [1, 9, 8, 3, 4, 2, 5, 6, 7],\n",
    "    \n",
    "    [8, 5, 9, 7, 6, 1, 4, 2, 3],\n",
    "    [4, 2, 6, 8, 5, 3, 7, 9, 1],\n",
    "    [7, 1, 3, 9, 2, 4, 8, 5, 6],\n",
    "    \n",
    "    [9, 6, 1, 5, 3, 7, 2, 8, 4],\n",
    "    [2, 8, 7, 4, 1, 9, 6, 3, 5],\n",
    "    [3, 4, 5, 2, 8, 6, 1, 7, 9]\n",
    "])"
   ]
  },
  {
   "cell_type": "markdown",
   "id": "c046648b-191b-4393-b44c-0eb8e92aaa3e",
   "metadata": {},
   "source": [
    "# checking whether the sum of rows is equals to 45"
   ]
  },
  {
   "cell_type": "code",
   "execution_count": 11,
   "id": "e5b84b4a-ebaa-4d0c-a295-62e778213c1e",
   "metadata": {},
   "outputs": [
    {
     "name": "stdout",
     "output_type": "stream",
     "text": [
      "It is sudoku because sum of rows is 45: row's wise\n"
     ]
    }
   ],
   "source": [
    "b=np.sum(s,axis=1)\n",
    "for i in b:\n",
    "    if i!=45:\n",
    "        print('Not a sudoku')\n",
    "        break\n",
    "else:\n",
    "    print(\"It is sudoku because sum of rows is 45: row's wise\")\n",
    "    "
   ]
  },
  {
   "cell_type": "markdown",
   "id": "2727c5fc-7d4a-46df-84c3-8f50eb160b7e",
   "metadata": {},
   "source": [
    "# checking whether the sum of colum is equals to 45"
   ]
  },
  {
   "cell_type": "code",
   "execution_count": 10,
   "id": "2a5aea9b-98d6-4885-9073-243a4dd5e374",
   "metadata": {},
   "outputs": [
    {
     "name": "stdout",
     "output_type": "stream",
     "text": [
      "It is sudoku because sum of colum is 45: colum wise\n"
     ]
    }
   ],
   "source": [
    "c=np.sum(s,axis=1)\n",
    "for i in c:\n",
    "    if i!=45:\n",
    "        print('Not a sudoku')\n",
    "        break\n",
    "else:\n",
    "    print(\"It is sudoku because sum of colum is 45: colum wise\")"
   ]
  },
  {
   "cell_type": "code",
   "execution_count": 8,
   "id": "8559dfde-1f1c-4ce3-97c7-9611418bfee7",
   "metadata": {},
   "outputs": [
    {
     "data": {
      "text/plain": [
       "[array([[5, 3, 4, 6, 7, 8, 9, 1, 2]]),\n",
       " array([[6, 7, 2, 1, 9, 5, 3, 4, 8]]),\n",
       " array([[1, 9, 8, 3, 4, 2, 5, 6, 7]]),\n",
       " array([[8, 5, 9, 7, 6, 1, 4, 2, 3]]),\n",
       " array([[4, 2, 6, 8, 5, 3, 7, 9, 1]]),\n",
       " array([[7, 1, 3, 9, 2, 4, 8, 5, 6]]),\n",
       " array([[9, 6, 1, 5, 3, 7, 2, 8, 4]]),\n",
       " array([[2, 8, 7, 4, 1, 9, 6, 3, 5]]),\n",
       " array([[3, 4, 5, 2, 8, 6, 1, 7, 9]])]"
      ]
     },
     "execution_count": 8,
     "metadata": {},
     "output_type": "execute_result"
    }
   ],
   "source": [
    "#splitting the rows\n",
    "np.split(s,9)"
   ]
  },
  {
   "cell_type": "code",
   "execution_count": 12,
   "id": "428faa64-efea-4ebe-91f9-4f25ed73b477",
   "metadata": {},
   "outputs": [
    {
     "data": {
      "text/plain": [
       "array([[5, 3, 4],\n",
       "       [6, 7, 2],\n",
       "       [1, 9, 8]])"
      ]
     },
     "execution_count": 12,
     "metadata": {},
     "output_type": "execute_result"
    }
   ],
   "source": [
    "#slicing the specific matrix \n",
    "s[:3,:3]"
   ]
  },
  {
   "cell_type": "code",
   "execution_count": 13,
   "id": "578c396b-edf3-4b39-9b0d-64a56d29b670",
   "metadata": {},
   "outputs": [
    {
     "name": "stdout",
     "output_type": "stream",
     "text": [
      "[[5 3 4]\n",
      " [6 7 2]\n",
      " [1 9 8]]\n",
      "[[6 7 8]\n",
      " [1 9 5]\n",
      " [3 4 2]]\n",
      "[[9 1 2]\n",
      " [3 4 8]\n",
      " [5 6 7]]\n",
      "[[8 5 9]\n",
      " [4 2 6]\n",
      " [7 1 3]]\n",
      "[[7 6 1]\n",
      " [8 5 3]\n",
      " [9 2 4]]\n",
      "[[4 2 3]\n",
      " [7 9 1]\n",
      " [8 5 6]]\n",
      "[[9 6 1]\n",
      " [2 8 7]\n",
      " [3 4 5]]\n",
      "[[5 3 7]\n",
      " [4 1 9]\n",
      " [2 8 6]]\n",
      "[[2 8 4]\n",
      " [6 3 5]\n",
      " [1 7 9]]\n"
     ]
    }
   ],
   "source": [
    "#creating the 3*3 matrix from the existing array\n",
    "for i in range(0,9,3):\n",
    "    for j in range(0,9,3):\n",
    "        if i==9:\n",
    "            break\n",
    "        print(s[i:i+3,j:j+3]) "
   ]
  },
  {
   "cell_type": "markdown",
   "id": "b80e97ca-7b75-4d54-b17b-1dc633d28d21",
   "metadata": {},
   "source": [
    "**General Questions**"
   ]
  },
  {
   "cell_type": "code",
   "execution_count": 132,
   "id": "1a661d89-c528-4af5-9117-907f23f8dfeb",
   "metadata": {},
   "outputs": [],
   "source": [
    "import numpy as np\n",
    "\n",
    "# Columns: [Age, Math Marks, Science Marks]\n",
    "data = np.array([\n",
    "    [18, 85, 78],   # Student 1\n",
    "    [19, 92, 88],   # Student 2\n",
    "    [17, 76, 95],   # Student 3\n",
    "    [18, 65, 70],   # Student 4\n",
    "    [20, 90, 85]    # Student 5\n",
    "])"
   ]
  },
  {
   "cell_type": "code",
   "execution_count": 133,
   "id": "cc86649d-6eaf-4f29-ae82-626d87ab0412",
   "metadata": {},
   "outputs": [
    {
     "data": {
      "text/plain": [
       "(5, 3)"
      ]
     },
     "execution_count": 133,
     "metadata": {},
     "output_type": "execute_result"
    }
   ],
   "source": [
    "#Get the shape of the matrix.\n",
    "s.shape\n",
    "data.shape"
   ]
  },
  {
   "cell_type": "code",
   "execution_count": 96,
   "id": "512ab9df-174c-473a-b85a-edcaf1694bc3",
   "metadata": {},
   "outputs": [
    {
     "data": {
      "text/plain": [
       "18.4"
      ]
     },
     "execution_count": 96,
     "metadata": {},
     "output_type": "execute_result"
    }
   ],
   "source": [
    "#Find the average age of students.\n",
    "np.mean(data[:,0])"
   ]
  },
  {
   "cell_type": "code",
   "execution_count": 86,
   "id": "050a5141-ab0a-4e9d-be98-bb37d1e8bd3f",
   "metadata": {},
   "outputs": [
    {
     "data": {
      "text/plain": [
       "81.6"
      ]
     },
     "execution_count": 86,
     "metadata": {},
     "output_type": "execute_result"
    }
   ],
   "source": [
    "#Extract Math marks of all students.\n",
    "np.mean(data[:,1])"
   ]
  },
  {
   "cell_type": "code",
   "execution_count": 87,
   "id": "05a724aa-b2b6-4c32-b1f6-03b568d87649",
   "metadata": {},
   "outputs": [
    {
     "data": {
      "text/plain": [
       "95"
      ]
     },
     "execution_count": 87,
     "metadata": {},
     "output_type": "execute_result"
    }
   ],
   "source": [
    "#Find the highest Science mark.\n",
    "np.max(data[:,2])"
   ]
  },
  {
   "cell_type": "code",
   "execution_count": 88,
   "id": "58dbe813-ad7d-4bd1-af72-81f0f7cd86ff",
   "metadata": {},
   "outputs": [
    {
     "data": {
      "text/plain": [
       "array([[19, 92, 88]])"
      ]
     },
     "execution_count": 88,
     "metadata": {},
     "output_type": "execute_result"
    }
   ],
   "source": [
    "#Get details of the student who scored more than 90 in Math.\n",
    "data[data[:,1]>90]"
   ]
  },
  {
   "cell_type": "code",
   "execution_count": 89,
   "id": "0d8d4e9f-e7aa-4926-a432-4565b3e08f27",
   "metadata": {},
   "outputs": [
    {
     "data": {
      "text/plain": [
       "array([90, 97, 81, 70, 95])"
      ]
     },
     "execution_count": 89,
     "metadata": {},
     "output_type": "execute_result"
    }
   ],
   "source": [
    "#Increase Math marks of all students by 5.\n",
    "data[:,1]+5"
   ]
  },
  {
   "cell_type": "code",
   "execution_count": 114,
   "id": "6d3945af-91b5-4e81-ad8d-3ec3dca1119d",
   "metadata": {},
   "outputs": [
    {
     "data": {
      "text/plain": [
       "3"
      ]
     },
     "execution_count": 114,
     "metadata": {},
     "output_type": "execute_result"
    }
   ],
   "source": [
    "#Find how many students are younger than 19.\n",
    "len(data[data[:,0]<19])"
   ]
  },
  {
   "cell_type": "code",
   "execution_count": 91,
   "id": "64134eb8-c6d1-4d0b-a19b-1d124b18cf71",
   "metadata": {},
   "outputs": [
    {
     "data": {
      "text/plain": [
       "array([81.6, 83.2])"
      ]
     },
     "execution_count": 91,
     "metadata": {},
     "output_type": "execute_result"
    }
   ],
   "source": [
    "#Calculate the average marks in each subject (column-wise mean).\n",
    "np.mean(data[:,1:],axis=0)"
   ]
  },
  {
   "cell_type": "code",
   "execution_count": 121,
   "id": "0c44133f-6641-4da8-9d52-e28ee75098c4",
   "metadata": {},
   "outputs": [
    {
     "data": {
      "text/plain": [
       "array([[19, 92, 88],\n",
       "       [20, 90, 85]])"
      ]
     },
     "execution_count": 121,
     "metadata": {},
     "output_type": "execute_result"
    }
   ],
   "source": [
    "#Get data of students who scored at least 80 in both subjects.\n",
    "data[(data[:,1]>80) & (data[:,2]>80)]"
   ]
  },
  {
   "cell_type": "code",
   "execution_count": 136,
   "id": "7619e559-c244-4ca1-add2-7daca65b365e",
   "metadata": {},
   "outputs": [
    {
     "data": {
      "text/plain": [
       "array([[18, 85, 78],\n",
       "       [19, 92, 88],\n",
       "       [17, 76, 95],\n",
       "       [18, 65,  0],\n",
       "       [20, 90, 85]])"
      ]
     },
     "execution_count": 136,
     "metadata": {},
     "output_type": "execute_result"
    }
   ],
   "source": [
    "#Replace all Science marks < 75 with 0.\n",
    "data[:,2][data[:,2]<=75]=0\n",
    "data"
   ]
  }
 ],
 "metadata": {
  "kernelspec": {
   "display_name": "Python [conda env:base] *",
   "language": "python",
   "name": "conda-base-py"
  },
  "language_info": {
   "codemirror_mode": {
    "name": "ipython",
    "version": 3
   },
   "file_extension": ".py",
   "mimetype": "text/x-python",
   "name": "python",
   "nbconvert_exporter": "python",
   "pygments_lexer": "ipython3",
   "version": "3.12.7"
  }
 },
 "nbformat": 4,
 "nbformat_minor": 5
}
